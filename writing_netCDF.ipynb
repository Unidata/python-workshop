{
 "metadata": {
  "name": ""
 },
 "nbformat": 3,
 "nbformat_minor": 0,
 "worksheets": [
  {
   "cells": [
    {
     "cell_type": "markdown",
     "metadata": {},
     "source": [
      "# Writing netCDF data"
     ]
    },
    {
     "cell_type": "code",
     "collapsed": false,
     "input": [
      "import netCDF4     # Note: python is case-sensitive!\n",
      "import numpy as np"
     ],
     "language": "python",
     "metadata": {},
     "outputs": [],
     "prompt_number": 1
    },
    {
     "cell_type": "markdown",
     "metadata": {},
     "source": [
      "## Creating dimensions\n",
      "\n",
      "Now let's create a new, empty netCDF file named 'data/new.nc', opened for writing ...\n",
      "Be careful, opening a file with 'w' will clobber any existing data (unless `clobber=False` is used, in which case an exception is raised if the file already exists).\n",
      "- `mode='r'` is the default.\n",
      "- `mode='a'` opens an existing file and allows for appending (does not clobber existing data)\n",
      "- `format` can be one of `NETCDF3_CLASSIC`, `NETCDF3_64BIT`, `NETCDF4_CLASSIC` or `NETCDF4` (default). `NETCDF4_CLASSIC` uses HDF5 for the underlying storage layer (as does `NETCDF4`) but enforces the classic netCDF 3 data model data can be read with older clients as long as they are linked against the version 4 C library.  You can still use zlib compression with  `NETCDF4_CLASSIC` files."
     ]
    },
    {
     "cell_type": "code",
     "collapsed": false,
     "input": [
      "try: ncfile.close()  # just to be safe, make sure dataset is not already open.\n",
      "except: pass\n",
      "ncfile = netCDF4.Dataset('data/new.nc',mode='w',format='NETCDF4') \n",
      "print ncfile"
     ],
     "language": "python",
     "metadata": {},
     "outputs": [
      {
       "output_type": "stream",
       "stream": "stdout",
       "text": [
        "<type 'netCDF4.Dataset'>\n",
        "root group (NETCDF4 data model, file format UNDEFINED):\n",
        "    dimensions(sizes): \n",
        "    variables(dimensions): \n",
        "    groups: \n",
        "\n"
       ]
      }
     ],
     "prompt_number": 2
    },
    {
     "cell_type": "markdown",
     "metadata": {},
     "source": [
      "The **ncfile** object we created is a container for _dimensions_, _variables_, and _attributes_.  Suppose we have some model output we want to write.  First, let's create some dimensions using the [`createDimension`](http://unidata.github.io/netcdf4-python/netCDF4.Dataset-class.html#createDimension) method.  Every dimension has a name and a length.  The name is a string that is used to specify the dimension to be used when creating a variable, and as a key to access the dimension object in the `ncfile.dimensions` dictionary.\n",
      "\n",
      "Setting the dimension length to `0` or `None` makes it unlimited, so it can grow.  For `NETCDF4` files, any variable's dimension can be unlimited.  For `NETCDF4_CLASSIC` and `NETCDF3*` files, only one per variable can be unlimited, and it must be the leftmost (fastest varying) dimension."
     ]
    },
    {
     "cell_type": "code",
     "collapsed": false,
     "input": [
      "lat_dim = ncfile.createDimension('lat', 73)     # latitude axis\n",
      "lon_dim = ncfile.createDimension('lon', 144)    # longitude axis\n",
      "time_dim = ncfile.createDimension('time', None) # unlimited axis (can be appended to).\n",
      "print lat_dim\n",
      "print lon_dim\n",
      "print time_dim\n",
      "print ncfile.dimensions"
     ],
     "language": "python",
     "metadata": {},
     "outputs": [
      {
       "output_type": "stream",
       "stream": "stdout",
       "text": [
        "<type 'netCDF4.Dimension'>: name = 'lat', size = 73\n",
        "\n",
        "<type 'netCDF4.Dimension'>: name = 'lon', size = 144\n",
        "\n",
        "<type 'netCDF4.Dimension'> (unlimited): name = 'time', size = 0\n",
        "\n",
        "OrderedDict([('lat', <type 'netCDF4.Dimension'>: name = 'lat', size = 73\n",
        "), ('lon', <type 'netCDF4.Dimension'>: name = 'lon', size = 144\n",
        "), ('time', <type 'netCDF4.Dimension'> (unlimited): name = 'time', size = 0\n",
        ")])\n"
       ]
      }
     ],
     "prompt_number": 3
    },
    {
     "cell_type": "markdown",
     "metadata": {},
     "source": [
      "## Creating attributes\n",
      "\n",
      "netCDF attributes can be created just like you would for any python object. There are conventions (most notably the [CF](http://cfconventions.org/) conventions) that define standard attributes and metdata for netCDF.  We won't try to adhere to any specific convention here though."
     ]
    },
    {
     "cell_type": "code",
     "collapsed": false,
     "input": [
      "ncfile.title='My model data'\n",
      "print ncfile.title"
     ],
     "language": "python",
     "metadata": {},
     "outputs": [
      {
       "output_type": "stream",
       "stream": "stdout",
       "text": [
        "My model data\n"
       ]
      }
     ],
     "prompt_number": 4
    },
    {
     "cell_type": "markdown",
     "metadata": {},
     "source": [
      "## Creating variables\n",
      "\n",
      "Now let's add some variables and store some data in them.  \n",
      "\n",
      "A variable has a name, a type, a shape, and some data values.  The shape of a variable is specified by a tuple of dimension names.  A variable should also have some named attributes, such as 'units', that describe the data.\n",
      "\n",
      "The [`createVariable`](http://unidata.github.io/netcdf4-python/netCDF4.Dataset-class.html#createVariable) method takes 3 mandatory args\n",
      "- the 1st argument is the variable name (a string). This is used as the key to access the variable object from the `variables` dictionary.\n",
      "- the 2nd argument is the datatype (most numpy datatypes supported).  Can be specified as a `numpy` dtype object (`np.float32` or `np.int16`) or a string (`f4` or `i2`).\n",
      "- the third argument is a tuple containing the dimension names (the dimensions must be created first).  Unless this is a `NETCDF4` file, any unlimited dimension must be the leftmost one.\n",
      "- there are lots of optional arguments (many of which are only relevant when `format='NETCDF'`) to control compression, chunking, fill_value, endian-ness etc (see online [docs](http://unidata.github.io/netcdf4-python/netCDF4.Dataset-class.html#createVariable)).\n"
     ]
    },
    {
     "cell_type": "code",
     "collapsed": false,
     "input": [
      "# Define two variables with the same names as dimensions,\n",
      "# a conventional way to define \"coordinate variables\".\n",
      "lat = ncfile.createVariable('lat', np.float32, ('lat',))\n",
      "lat.units = 'degrees_north'\n",
      "lat.long_name = 'latitude'\n",
      "lon = ncfile.createVariable('lon', np.float32, ('lon',))\n",
      "lon.units = 'degrees_east'\n",
      "lon.long_name = 'longitude'\n",
      "time = ncfile.createVariable('time', np.float64, ('time',))\n",
      "time.units = 'hours since 1800-01-01'\n",
      "time.long_name = 'time'\n",
      "# Define a 3D variable to hold the data\n",
      "temp = ncfile.createVariable('temp',np.float64,('time','lat','lon')) # note: unlimited dimension is leftmost\n",
      "temp.units = 'K' # degrees Kelvin\n",
      "temp.standard_name = 'air_temperature' # this is a CF standard name\n",
      "print temp"
     ],
     "language": "python",
     "metadata": {},
     "outputs": [
      {
       "output_type": "stream",
       "stream": "stdout",
       "text": [
        "<type 'netCDF4.Variable'>\n",
        "float64 temp(time, lat, lon)\n",
        "    units: K\n",
        "    standard_name: air_temperature\n",
        "unlimited dimensions: time\n",
        "current shape = (0, 73, 144)\n",
        "filling on, default _FillValue of 9.96920996839e+36 used\n",
        "\n"
       ]
      }
     ],
     "prompt_number": 5
    },
    {
     "cell_type": "markdown",
     "metadata": {},
     "source": [
      "The netCDF4 module provides some useful pre-defined Python attributes for netCDF variables, such as dimensions, shape, dtype, ndim.  These attributes are read-only.\n",
      "\n",
      "Note: since no data has been written yet, the length of the 'time' dimension is 0."
     ]
    },
    {
     "cell_type": "code",
     "collapsed": false,
     "input": [
      "print \"-- Some pre-defined attributes for variable temp:\"\n",
      "print \"temp.dimensions:\", temp.dimensions\n",
      "print \"temp.shape:\", temp.shape\n",
      "print \"temp.dtype:\", temp.dtype\n",
      "print \"temp.ndim:\", temp.ndim"
     ],
     "language": "python",
     "metadata": {},
     "outputs": [
      {
       "output_type": "stream",
       "stream": "stdout",
       "text": [
        "-- Some pre-defined attributes for variable temp:\n",
        "temp.dimensions: (u'time', u'lat', u'lon')\n",
        "temp.shape: (0, 73, 144)\n",
        "temp.dtype: float64\n",
        "temp.ndim: 3\n"
       ]
      }
     ],
     "prompt_number": 6
    },
    {
     "cell_type": "markdown",
     "metadata": {},
     "source": [
      "## Writing data\n",
      "\n",
      "To write data a netCDF variable object, just treat it like a numpy array and assign values to a slice."
     ]
    },
    {
     "cell_type": "code",
     "collapsed": false,
     "input": [
      "nlats = len(lat_dim); nlons = len(lon_dim); ntimes = 3\n",
      "# Write latitudes, longitudes.\n",
      "# Note: the \":\" is necessary in these \"write\" statements\n",
      "lat[:] = -90. + (180./nlats)*np.arange(nlats) # south pole to north pole\n",
      "lon[:] = (180./nlats)*np.arange(nlons) # Greenwich meridian eastward\n",
      "# create a 3D array of random numbers\n",
      "data_arr = np.random.uniform(low=280,high=330,size=(ntimes,nlats,nlons))\n",
      "# Write the data.  This writes the whole 3D netCDF variable all at once.\n",
      "temp[:,:,:] = data_arr  # Appends data along unlimited dimension\n",
      "print \"-- Wrote data, temp.shape is now \", temp.shape\n",
      "# read data back from variable (by slicing it), print min and max\n",
      "print \"-- Min/Max values:\", temp[:,:,:].min(), temp[:,:,:].max()"
     ],
     "language": "python",
     "metadata": {},
     "outputs": [
      {
       "output_type": "stream",
       "stream": "stdout",
       "text": [
        "-- Wrote data, temp.shape is now  (3, 73, 144)\n",
        "-- Min/Max values: 280.001850841 329.998408259\n"
       ]
      }
     ],
     "prompt_number": 7
    },
    {
     "cell_type": "markdown",
     "metadata": {},
     "source": [
      "- You can just treat a netCDF Variable object like a numpy array and assign values to it.\n",
      "- Variables automatically grow along unlimited dimensions (unlike numpy arrays)\n",
      "- The above writes the whole 3D variable all at once,  but you can write it a slice at a time instead.\n",
      "\n",
      "Let's add another time slice:\n"
     ]
    },
    {
     "cell_type": "code",
     "collapsed": false,
     "input": [
      "# create a 2D array of random numbers\n",
      "data_slice = np.random.uniform(low=280,high=330,size=(nlats,nlons))\n",
      "temp[3,:,:] = data_slice   # Appends the 4th time slice\n",
      "print \"-- Wrote more data, temp.shape is now \", temp.shape"
     ],
     "language": "python",
     "metadata": {},
     "outputs": [
      {
       "output_type": "stream",
       "stream": "stdout",
       "text": [
        "-- Wrote more data, temp.shape is now  (4, 73, 144)\n"
       ]
      }
     ],
     "prompt_number": 8
    },
    {
     "cell_type": "markdown",
     "metadata": {},
     "source": [
      "## Closing a netCDF file\n",
      "\n",
      "It's **important** to close a netCDF file you opened for writing:\n",
      "\n",
      "- flushes buffers to make sure all data gets written\n",
      "- releases memory resources used by open netCDF files\n",
      "- lets you start over if you get an error, by recreating file from scratch"
     ]
    },
    {
     "cell_type": "code",
     "collapsed": true,
     "input": [
      "print ncfile\n",
      "ncfile.close()"
     ],
     "language": "python",
     "metadata": {},
     "outputs": [
      {
       "output_type": "stream",
       "stream": "stdout",
       "text": [
        "<type 'netCDF4.Dataset'>\n",
        "root group (NETCDF4 data model, file format UNDEFINED):\n",
        "    title: My model data\n",
        "    dimensions(sizes): lat(73), lon(144), time(4)\n",
        "    variables(dimensions): float32 \u001b[4mlat\u001b[0m(lat), float32 \u001b[4mlon\u001b[0m(lon), float64 \u001b[4mtime\u001b[0m(time), float64 \u001b[4mtemp\u001b[0m(time,lat,lon)\n",
        "    groups: \n",
        "\n"
       ]
      }
     ],
     "prompt_number": 9
    }
   ],
   "metadata": {}
  }
 ]
}